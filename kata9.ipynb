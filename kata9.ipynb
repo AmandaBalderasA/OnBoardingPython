{
 "cells": [
  {
   "cell_type": "markdown",
   "metadata": {},
   "source": [
    "# KATA 9"
   ]
  },
  {
   "cell_type": "code",
   "execution_count": 1,
   "metadata": {},
   "outputs": [],
   "source": [
    "def rocket_parts():\n",
    "    print('payload, propellant, structure')"
   ]
  },
  {
   "cell_type": "code",
   "execution_count": 2,
   "metadata": {},
   "outputs": [
    {
     "name": "stdout",
     "output_type": "stream",
     "text": [
      "payload, propellant, structure\n"
     ]
    }
   ],
   "source": [
    "rocket_parts()"
   ]
  },
  {
   "cell_type": "code",
   "execution_count": 3,
   "metadata": {},
   "outputs": [],
   "source": [
    "from datetime import timedelta, datetime\n",
    "\n",
    "def arrival_time(hours=51):\n",
    "    now = datetime.now()\n",
    "    arrival = now + timedelta(hours=hours)\n",
    "    return arrival.strftime('Arrival: %A %H:%M')"
   ]
  },
  {
   "cell_type": "code",
   "execution_count": 4,
   "metadata": {},
   "outputs": [
    {
     "data": {
      "text/plain": [
       "'Arrival: Friday 01:33'"
      ]
     },
     "execution_count": 4,
     "metadata": {},
     "output_type": "execute_result"
    }
   ],
   "source": [
    "arrival_time()"
   ]
  },
  {
   "cell_type": "code",
   "execution_count": 5,
   "metadata": {},
   "outputs": [
    {
     "data": {
      "text/plain": [
       "'Arrival: Tuesday 22:34'"
      ]
     },
     "execution_count": 5,
     "metadata": {},
     "output_type": "execute_result"
    }
   ],
   "source": [
    "arrival_time(hours = 0)"
   ]
  },
  {
   "cell_type": "code",
   "execution_count": 6,
   "metadata": {},
   "outputs": [],
   "source": [
    "def sequence(*args):\n",
    "    total = sum(args)\n",
    "    if total < 60:\n",
    "        return f'Total time: {total}'\n",
    "    else:\n",
    "        return f'Total time: {total/60}'"
   ]
  },
  {
   "cell_type": "code",
   "execution_count": 8,
   "metadata": {},
   "outputs": [
    {
     "data": {
      "text/plain": [
       "'Total time: 6'"
      ]
     },
     "execution_count": 8,
     "metadata": {},
     "output_type": "execute_result"
    }
   ],
   "source": [
    "sequence(6)"
   ]
  },
  {
   "cell_type": "code",
   "execution_count": 9,
   "metadata": {},
   "outputs": [],
   "source": [
    "def variable_length(**kwargs):\n",
    "    print(kwargs)"
   ]
  },
  {
   "cell_type": "code",
   "execution_count": 10,
   "metadata": {},
   "outputs": [
    {
     "name": "stdout",
     "output_type": "stream",
     "text": [
      "{'tanks': 1, 'day': 'Wednesday', 'pilots': 3}\n"
     ]
    }
   ],
   "source": [
    "variable_length(tanks=1, day='Wednesday', pilots=3)"
   ]
  },
  {
   "cell_type": "code",
   "execution_count": 15,
   "metadata": {},
   "outputs": [],
   "source": [
    "def members(**kwargs):\n",
    "    print(f'{len(kwargs)} astronauts assigned for this mission: ')\n",
    "    for title, name in kwargs.items():\n",
    "        print(f'{title}: {name}')"
   ]
  },
  {
   "cell_type": "code",
   "execution_count": 16,
   "metadata": {},
   "outputs": [
    {
     "name": "stdout",
     "output_type": "stream",
     "text": [
      "3 astronauts assigned for this mission: \n",
      "captain: Neil Armstrong\n",
      "pilot: Buzz Aldrin\n",
      "command_pilot: Michael Collins\n"
     ]
    }
   ],
   "source": [
    "members(captain='Neil Armstrong', pilot='Buzz Aldrin', command_pilot='Michael Collins')"
   ]
  },
  {
   "cell_type": "markdown",
   "metadata": {},
   "source": [
    "## Ejercicio 1"
   ]
  },
  {
   "cell_type": "code",
   "execution_count": 17,
   "metadata": {},
   "outputs": [],
   "source": [
    "def lecturas(primero, segundo, tercero):\n",
    "    promedio = (primero + segundo + tercero) / 3\n",
    "    return f\"\"\"Reporte:\n",
    "    Promedio: {promedio}%\n",
    "    Primer tanque: {primero}%\n",
    "    Segundo tanque: {segundo}%\n",
    "    Tercer tanque: {tercero}%\n",
    "\"\"\""
   ]
  },
  {
   "cell_type": "code",
   "execution_count": 18,
   "metadata": {},
   "outputs": [
    {
     "name": "stdout",
     "output_type": "stream",
     "text": [
      "Reporte:\n",
      "    Promedio: 63.333333333333336%\n",
      "    Primer tanque: 50%\n",
      "    Segundo tanque: 60%\n",
      "    Tercer tanque: 80%\n",
      "\n"
     ]
    }
   ],
   "source": [
    "print(lecturas(50, 60, 80))"
   ]
  },
  {
   "cell_type": "code",
   "execution_count": 20,
   "metadata": {},
   "outputs": [
    {
     "data": {
      "text/plain": [
       "48.333333333333336"
      ]
     },
     "execution_count": 20,
     "metadata": {},
     "output_type": "execute_result"
    }
   ],
   "source": [
    "def promedio(valores):\n",
    "    total = sum(valores)\n",
    "    num_valores = len(valores)\n",
    "    return total / num_valores\n",
    "\n",
    "promedio([60, 50, 35])"
   ]
  },
  {
   "cell_type": "code",
   "execution_count": 23,
   "metadata": {},
   "outputs": [
    {
     "name": "stdout",
     "output_type": "stream",
     "text": [
      "Reporte completo:\n",
      "    Promedio: 60.0%\n",
      "    Primer tanque: 50%\n",
      "    Segundo tanque: 60%\n",
      "    Tercer tanque: 70%\n",
      "    \n"
     ]
    }
   ],
   "source": [
    "def reporte(primero, segundo, tercero):\n",
    "    return f\"\"\"Reporte completo:\n",
    "    Promedio: {promedio([primero, segundo, tercero])}%\n",
    "    Primer tanque: {primero}%\n",
    "    Segundo tanque: {segundo}%\n",
    "    Tercer tanque: {tercero}%\n",
    "    \"\"\"\n",
    "\n",
    "print(reporte(50, 60, 70))"
   ]
  },
  {
   "cell_type": "markdown",
   "metadata": {},
   "source": [
    "## Ejercicio 2"
   ]
  },
  {
   "cell_type": "code",
   "execution_count": 27,
   "metadata": {},
   "outputs": [
    {
     "name": "stdout",
     "output_type": "stream",
     "text": [
      "Reporte de la mision:\n",
      "    Destino: Marte \n",
      "    Tiempo de vuelo: 35 minutos\n",
      "    Capacidad del tanque: 110 litros\n",
      "    \n"
     ]
    }
   ],
   "source": [
    "def informe(destino, hora_lanzamiento, tiempo_vuelo, externo, interno):\n",
    "    return f\"\"\"Reporte de la mision:\n",
    "    Destino: {destino} \n",
    "    Tiempo de vuelo: {hora_lanzamiento + tiempo_vuelo} minutos\n",
    "    Capacidad del tanque: {externo + interno} litros\n",
    "    \"\"\"\n",
    "print(informe('Marte', 15, 20, 50, 60))"
   ]
  },
  {
   "cell_type": "code",
   "execution_count": 29,
   "metadata": {},
   "outputs": [
    {
     "name": "stdout",
     "output_type": "stream",
     "text": [
      "Reporte optimizado:\n",
      "    Destino: Jupiter\n",
      "    Tiempo de vuelo: 45 minutos\n",
      "    Capacidad del tanque: 155 litros\n",
      "    \n"
     ]
    }
   ],
   "source": [
    "def informe_completo(destino, *minutos, **tanques):\n",
    "    tiempo = sum(minutos)\n",
    "    return f\"\"\"Reporte optimizado:\n",
    "    Destino: {destino}\n",
    "    Tiempo de vuelo: {tiempo} minutos\n",
    "    Capacidad del tanque: {sum(tanques.values())} litros\n",
    "    \"\"\"\n",
    "    \n",
    "print(informe_completo('Jupiter', 10, 15, 20, primero = 20, segundo = 55, tercero = 80))"
   ]
  },
  {
   "cell_type": "code",
   "execution_count": 34,
   "metadata": {},
   "outputs": [
    {
     "name": "stdout",
     "output_type": "stream",
     "text": [
      "Reporte optimizado:\n",
      "    Destino: Tierra\n",
      "    Tiempo de vuelo: 60 minutos\n",
      "    Capacidad total del tanque: 140 litros\n",
      "    primero: 30 litros\n",
      "segundo: 50 litros\n",
      "tercero: 60 litros\n",
      "\n"
     ]
    }
   ],
   "source": [
    "def informe_detallado(destino, *minutos, **tanques):\n",
    "    tiempo = sum(minutos)\n",
    "    reporte = f\"\"\"Reporte optimizado:\n",
    "    Destino: {destino}\n",
    "    Tiempo de vuelo: {tiempo} minutos\n",
    "    Capacidad total del tanque: {sum(tanques.values())} litros\n",
    "    \"\"\"\n",
    "    for nombre,  num in tanques.items():\n",
    "        reporte += f\"{nombre}: {num} litros\\n\"\n",
    "    return reporte\n",
    "\n",
    "print(informe_detallado('Tierra', 10, 20, 30, primero = 30, segundo = 50, tercero = 60))"
   ]
  }
 ],
 "metadata": {
  "interpreter": {
   "hash": "3d57cd9f0994a733cac1f0c092be5bb15b5f0be34595c5840bc7d480ce822b30"
  },
  "kernelspec": {
   "display_name": "Python 3.10.2 64-bit",
   "language": "python",
   "name": "python3"
  },
  "language_info": {
   "codemirror_mode": {
    "name": "ipython",
    "version": 3
   },
   "file_extension": ".py",
   "mimetype": "text/x-python",
   "name": "python",
   "nbconvert_exporter": "python",
   "pygments_lexer": "ipython3",
   "version": "3.10.2"
  },
  "orig_nbformat": 4
 },
 "nbformat": 4,
 "nbformat_minor": 2
}
