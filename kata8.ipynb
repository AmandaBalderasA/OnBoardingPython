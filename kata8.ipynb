{
 "cells": [
  {
   "cell_type": "markdown",
   "metadata": {},
   "source": [
    "# KATA 8"
   ]
  },
  {
   "cell_type": "code",
   "execution_count": 24,
   "metadata": {},
   "outputs": [
    {
     "name": "stdout",
     "output_type": "stream",
     "text": [
      "Earth\n",
      "dict_values(['Earth', 1])\n",
      "Earth\n"
     ]
    }
   ],
   "source": [
    "planet = {\n",
    "    'name': 'Earth',\n",
    "    'moons': 1\n",
    "}\n",
    "print(planet.get('name'))\n",
    "print(planet.values())\n",
    "print(planet['name'])\n"
   ]
  },
  {
   "cell_type": "code",
   "execution_count": 25,
   "metadata": {},
   "outputs": [
    {
     "name": "stdout",
     "output_type": "stream",
     "text": [
      "Earth\n"
     ]
    }
   ],
   "source": [
    "# Errores\n",
    "print(planet.get('name'))\n",
    "# print(planet['gravity'])"
   ]
  },
  {
   "cell_type": "code",
   "execution_count": 26,
   "metadata": {},
   "outputs": [
    {
     "name": "stdout",
     "output_type": "stream",
     "text": [
      "Makemake\n"
     ]
    }
   ],
   "source": [
    "planet.update({'name': 'Makemake'})\n",
    "print(planet.get('name'))"
   ]
  },
  {
   "cell_type": "code",
   "execution_count": 27,
   "metadata": {},
   "outputs": [
    {
     "name": "stdout",
     "output_type": "stream",
     "text": [
      "{'name': 'Jupiter', 'moons': 79}\n"
     ]
    },
    {
     "data": {
      "text/plain": [
       "\"\\nplanet['name'] = 'Neptune'\\nplanet['moons'] = 56\\nprint(planet)\\n\""
      ]
     },
     "execution_count": 27,
     "metadata": {},
     "output_type": "execute_result"
    }
   ],
   "source": [
    "planet.update({\n",
    "    'name': 'Jupiter',\n",
    "    'moons': 79\n",
    "})\n",
    "\n",
    "print(planet)\n",
    "\"\"\"\n",
    "planet['name'] = 'Neptune'\n",
    "planet['moons'] = 56\n",
    "print(planet)\n",
    "\"\"\""
   ]
  },
  {
   "cell_type": "code",
   "execution_count": 28,
   "metadata": {},
   "outputs": [
    {
     "name": "stdout",
     "output_type": "stream",
     "text": [
      "{'polar': 98765, 'equatorial': 12345}\n"
     ]
    }
   ],
   "source": [
    "planet['diamenter'] = {\n",
    "    'polar' : 98765,\n",
    "    'equatorial' : 12345\n",
    "}\n",
    "\n",
    "print(planet['diamenter'])"
   ]
  },
  {
   "cell_type": "code",
   "execution_count": 30,
   "metadata": {},
   "outputs": [
    {
     "name": "stdout",
     "output_type": "stream",
     "text": [
      "Jupiter polar distance: 98765\n",
      "Jupiter has 79 moons\n"
     ]
    }
   ],
   "source": [
    "print(f\"{planet['name']} polar distance: {planet['diamenter']['polar']}\")\n",
    "print(f\"{planet['name']} has {planet['moons']} moons\")"
   ]
  },
  {
   "cell_type": "code",
   "execution_count": 32,
   "metadata": {},
   "outputs": [],
   "source": [
    "# Programacion dinamica con diccionarios\n",
    "rainfall = {\n",
    "    'october' : 3.5,\n",
    "    'november' : 4.2,\n",
    "    'december' : 2.1\n",
    "}\n"
   ]
  },
  {
   "cell_type": "code",
   "execution_count": 33,
   "metadata": {},
   "outputs": [
    {
     "name": "stdout",
     "output_type": "stream",
     "text": [
      "october: 3.5\n",
      "november: 4.2\n",
      "december: 2.1\n",
      "Total:  9.8\n"
     ]
    }
   ],
   "source": [
    "suma = 0.0\n",
    "for i in rainfall.keys():\n",
    "    print(f'{i}: {rainfall[i]}')\n",
    "    suma += rainfall[i]\n",
    "\n",
    "print('Total: ', suma)"
   ]
  },
  {
   "cell_type": "code",
   "execution_count": 34,
   "metadata": {},
   "outputs": [
    {
     "name": "stdout",
     "output_type": "stream",
     "text": [
      "3.1\n"
     ]
    }
   ],
   "source": [
    "if 'december' in rainfall:\n",
    "    rainfall['december'] = rainfall['december'] + 1\n",
    "else:\n",
    "    rainfall['december'] = 1\n",
    "\n",
    "print(f\"{rainfall['december']}\")"
   ]
  },
  {
   "cell_type": "code",
   "execution_count": 35,
   "metadata": {},
   "outputs": [
    {
     "name": "stdout",
     "output_type": "stream",
     "text": [
      "There was 10.8 in the last quarter year\n"
     ]
    }
   ],
   "source": [
    "total = 0\n",
    "for value in rainfall.values():\n",
    "    total += value\n",
    "\n",
    "print(f'There was {total} in the last quarter year')\n"
   ]
  },
  {
   "cell_type": "markdown",
   "metadata": {},
   "source": [
    "## Ejercicio 1"
   ]
  },
  {
   "cell_type": "code",
   "execution_count": 36,
   "metadata": {},
   "outputs": [],
   "source": [
    "planet = {\n",
    "    'key': 'Mars',\n",
    "    'number': 42\n",
    "}"
   ]
  },
  {
   "cell_type": "code",
   "execution_count": 38,
   "metadata": {},
   "outputs": [
    {
     "name": "stdout",
     "output_type": "stream",
     "text": [
      "The planet is Mars and it has 42 moons\n"
     ]
    }
   ],
   "source": [
    "print(f\"The planet is {planet['key']} and it has {planet['number']} moons\")"
   ]
  },
  {
   "cell_type": "code",
   "execution_count": 39,
   "metadata": {},
   "outputs": [],
   "source": [
    "planet['circunferencia (km)'] = {\n",
    "    'polar' : 6752,\n",
    "    'equatorial' : 692\n",
    "}"
   ]
  },
  {
   "cell_type": "code",
   "execution_count": 41,
   "metadata": {},
   "outputs": [
    {
     "name": "stdout",
     "output_type": "stream",
     "text": [
      "Planeta: Mars\n",
      "Circunferencia polar: 6752\n"
     ]
    }
   ],
   "source": [
    "print(f\"Planeta: {planet['key']}\\nCircunferencia polar: {planet['circunferencia (km)']['polar']}\")"
   ]
  },
  {
   "cell_type": "markdown",
   "metadata": {},
   "source": [
    "## Ejercicio 2"
   ]
  },
  {
   "cell_type": "code",
   "execution_count": 42,
   "metadata": {},
   "outputs": [],
   "source": [
    "planet_moons = {\n",
    "    'mercury': 0,\n",
    "    'venus': 0,\n",
    "    'earth': 1,\n",
    "    'mars': 2,\n",
    "    'jupiter': 79,\n",
    "    'saturn': 82,\n",
    "    'uranus': 27,\n",
    "    'neptune': 14,\n",
    "    'pluto': 5,\n",
    "    'haumea': 2,\n",
    "    'makemake': 1,\n",
    "    'eris': 1\n",
    "}"
   ]
  },
  {
   "cell_type": "code",
   "execution_count": 45,
   "metadata": {},
   "outputs": [],
   "source": [
    "moons = len(planet_moons.values())\n",
    "planets = len(planet_moons.keys())"
   ]
  },
  {
   "cell_type": "code",
   "execution_count": 46,
   "metadata": {},
   "outputs": [
    {
     "name": "stdout",
     "output_type": "stream",
     "text": [
      "Total:  214\n",
      "Average:  17.833333333333332\n"
     ]
    }
   ],
   "source": [
    "total_moons = 0\n",
    "for moon in planet_moons.values():\n",
    "    total_moons += moon\n",
    "\n",
    "average = total_moons / planets\n",
    "print('Total: ', total_moons)\n",
    "print('Average: ', average)"
   ]
  }
 ],
 "metadata": {
  "interpreter": {
   "hash": "3d57cd9f0994a733cac1f0c092be5bb15b5f0be34595c5840bc7d480ce822b30"
  },
  "kernelspec": {
   "display_name": "Python 3.10.2 64-bit",
   "language": "python",
   "name": "python3"
  },
  "language_info": {
   "codemirror_mode": {
    "name": "ipython",
    "version": 3
   },
   "file_extension": ".py",
   "mimetype": "text/x-python",
   "name": "python",
   "nbconvert_exporter": "python",
   "pygments_lexer": "ipython3",
   "version": "3.10.2"
  },
  "orig_nbformat": 4
 },
 "nbformat": 4,
 "nbformat_minor": 2
}
