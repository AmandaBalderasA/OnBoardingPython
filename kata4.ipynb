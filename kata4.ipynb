{
 "cells": [
  {
   "cell_type": "markdown",
   "metadata": {},
   "source": [
    "# KATA 4"
   ]
  },
  {
   "cell_type": "code",
   "execution_count": 1,
   "metadata": {},
   "outputs": [
    {
     "name": "stdout",
     "output_type": "stream",
     "text": [
      "The \"near side\" is the part of the Moon that faces the Earth\n"
     ]
    }
   ],
   "source": [
    "# Comillas simples y dobles\n",
    "print('The \"near side\" is the part of the Moon that faces the Earth')"
   ]
  },
  {
   "cell_type": "code",
   "execution_count": 6,
   "metadata": {},
   "outputs": [
    {
     "name": "stdout",
     "output_type": "stream",
     "text": [
      " Facts about the moon:\n",
      "There is not atmosphere\n",
      "There is no water\n",
      "There is no sound\n"
     ]
    }
   ],
   "source": [
    "# Comilla triple\n",
    "cadena = \"\"\" Facts about the moon:\n",
    "There is not atmosphere\n",
    "There is no water\n",
    "There is no sound\"\"\"\n",
    "\n",
    "print(cadena)"
   ]
  },
  {
   "cell_type": "code",
   "execution_count": 16,
   "metadata": {},
   "outputs": [
    {
     "name": "stdout",
     "output_type": "stream",
     "text": [
      "CURSO DE INTRODUCCION A PYTHON\n",
      "['Curso', 'de', 'Introduccion', 'a', 'Python']\n",
      "['Buenas', ' tardes']\n",
      "True\n",
      "24\n",
      "0\n"
     ]
    }
   ],
   "source": [
    "# Metodos String\n",
    "texto = \"Curso de Introduccion a Python\"\n",
    "print(texto.title().upper())\n",
    "print(texto.split())\n",
    "\n",
    "texto2 = \"Buenas. tardes\"\n",
    "print(texto2.split('.'))\n",
    "\n",
    "print(\"Python\" in texto)\n",
    "print(texto.find(\"Python\"))\n",
    "print(texto.count(\"python\"))"
   ]
  },
  {
   "cell_type": "code",
   "execution_count": 31,
   "metadata": {},
   "outputs": [
    {
     "name": "stdout",
     "output_type": "stream",
     "text": [
      "30\n"
     ]
    }
   ],
   "source": [
    "mars_temperature = 'The highest temperature on Mars is about 30 C'\n",
    "for item in mars_temperature.split():\n",
    "    if item.isnumeric():   # isnumeric() no funciona con numeros negativos\n",
    "        print(item)\n",
    "    "
   ]
  },
  {
   "cell_type": "code",
   "execution_count": 32,
   "metadata": {},
   "outputs": [
    {
     "data": {
      "text/plain": [
       "' -60 C'"
      ]
     },
     "execution_count": 32,
     "metadata": {},
     "output_type": "execute_result"
    }
   ],
   "source": [
    "temperatures = 'Mars Average Temperature: -60 C'\n",
    "parts = temperatures.split(':')\n",
    "parts\n",
    "parts[1]"
   ]
  },
  {
   "cell_type": "code",
   "execution_count": 34,
   "metadata": {},
   "outputs": [
    {
     "name": "stdout",
     "output_type": "stream",
     "text": [
      "Reporte de la temperatura:\n",
      "La temperatura no esta en grados Celsius\n",
      "Temperaturas arriba de cero\n"
     ]
    }
   ],
   "source": [
    "texto3 = \"La temperatura es de 50 K\"\n",
    "print(\"Reporte de la temperatura:\")\n",
    "\n",
    "if texto3.endswith('C'):\n",
    "    print(\"La temperatura esta en grados Celsius\")\n",
    "else:\n",
    "    print(\"La temperatura no esta en grados Celsius\")\n",
    "    \n",
    "if '-' in texto3:\n",
    "    print(\"Temperaturas bajo cero\")\n",
    "else:\n",
    "    print(\"Temperaturas arriba de cero\")"
   ]
  },
  {
   "cell_type": "code",
   "execution_count": 36,
   "metadata": {},
   "outputs": [
    {
     "data": {
      "text/plain": [
       "'The Moon is drifting away from the Earth.\\nOn average, the Moon is moving about 4cm every year'"
      ]
     },
     "execution_count": 36,
     "metadata": {},
     "output_type": "execute_result"
    }
   ],
   "source": [
    "moon_facts = ['The Moon is drifting away from the Earth.', 'On average, the Moon is moving about 4cm every year']\n",
    "'\\n'.join(moon_facts)"
   ]
  },
  {
   "cell_type": "code",
   "execution_count": 42,
   "metadata": {},
   "outputs": [
    {
     "name": "stdout",
     "output_type": "stream",
     "text": [
      "Hola, mi nombre es Amanda\n",
      "Hola, mi nombre es Amanda y tengo 19 anios\n",
      "Hola, mi nombre es Amanda y tengo 19 anios\n"
     ]
    },
    {
     "data": {
      "text/plain": [
       "'HOLA'"
      ]
     },
     "execution_count": 42,
     "metadata": {},
     "output_type": "execute_result"
    }
   ],
   "source": [
    "cadena2 = 'Hola'\n",
    "edad = '19'\n",
    "print('{}, mi nombre es Amanda'.format(cadena2))\n",
    "print('{saludo}, mi nombre es {amanda} y tengo {anios} anios'.format(saludo = cadena2, amanda = 'Amanda', anios = edad))\n",
    "print(f'{cadena2}, mi nombre es Amanda y tengo {10 + 9} anios')\n",
    "f'{cadena2.upper()}'"
   ]
  },
  {
   "cell_type": "markdown",
   "metadata": {},
   "source": [
    "## Ejercicio 1"
   ]
  },
  {
   "cell_type": "code",
   "execution_count": 66,
   "metadata": {},
   "outputs": [],
   "source": [
    "text = \"\"\"Interesting facts about the Moon. The Moon is Earth's only satellite. There are several interesting facts about the Moon and how it affects life here on Earth. \n",
    "On average, the Moon moves 4cm away from the Earth every year. This yearly drift is not significant enough to cause immediate effects on Earth.\"\"\"\n",
    "text_parts = text.split('.')"
   ]
  },
  {
   "cell_type": "code",
   "execution_count": 71,
   "metadata": {},
   "outputs": [
    {
     "name": "stdout",
     "output_type": "stream",
     "text": [
      " \n",
      "On average, the Moon moves 4cm away from the Earth every year\n"
     ]
    }
   ],
   "source": [
    "# Metodo 1 para resolver el problema\n",
    "for i in text.split('.'):\n",
    "    if 'average' in i:\n",
    "        print(i)\n",
    "    if 'temperature' in i.lower():\n",
    "        print(i)\n",
    "    if 'distance' in i.lower():\n",
    "        print(i)"
   ]
  },
  {
   "cell_type": "code",
   "execution_count": 70,
   "metadata": {},
   "outputs": [],
   "source": [
    "# Metodo 2 para resolver el problema\n",
    "clue = ['average', 'temperature', 'distance']"
   ]
  },
  {
   "cell_type": "code",
   "execution_count": 69,
   "metadata": {},
   "outputs": [
    {
     "name": "stdout",
     "output_type": "stream",
     "text": [
      " \n",
      "On average, the Moon moves 4cm away from the Earth every year\n"
     ]
    }
   ],
   "source": [
    "for i in text_parts:\n",
    "    for j in clue:\n",
    "        if j in i:\n",
    "            print(i)"
   ]
  },
  {
   "cell_type": "code",
   "execution_count": 72,
   "metadata": {},
   "outputs": [
    {
     "name": "stdout",
     "output_type": "stream",
     "text": [
      "['Interesting facts about the Moon', \" The Moon is Earth's only satellite\", ' There are several interesting facts about the Moon and how it affects life here on Earth', ' \\nOn average, the Moon moves 4cm away from the Earth every year', ' This yearly drift is not significant enough to cause immediate effects on Earth', '']\n"
     ]
    }
   ],
   "source": [
    "for i in text_parts:\n",
    "    i.replace('C', 'Celsius')\n",
    "\n",
    "print(text_parts)"
   ]
  },
  {
   "cell_type": "markdown",
   "metadata": {},
   "source": [
    "## Ejercicio 2"
   ]
  },
  {
   "cell_type": "code",
   "execution_count": 8,
   "metadata": {},
   "outputs": [],
   "source": [
    "# Definir datos que se trabajaran\n",
    "nombre = \"Luna\"\n",
    "gravedad = 0.00162  # kms\n",
    "planeta = \"Tierra\""
   ]
  },
  {
   "cell_type": "code",
   "execution_count": 2,
   "metadata": {},
   "outputs": [],
   "source": [
    "# Titulo\n",
    "titulo = f'Datos de la gravedad de {planeta}'"
   ]
  },
  {
   "cell_type": "code",
   "execution_count": 6,
   "metadata": {},
   "outputs": [],
   "source": [
    "datos = f\"\"\"{'-'*50}\n",
    "Nombre: {planeta}\n",
    "Gravedad: {gravedad*1000} m/s2\n",
    "\"\"\""
   ]
  },
  {
   "cell_type": "code",
   "execution_count": 7,
   "metadata": {},
   "outputs": [
    {
     "name": "stdout",
     "output_type": "stream",
     "text": [
      "--------------------------------------------------\n",
      "Nombre: Earth\n",
      "Gravedad: 1.6199999999999999 m/s2\n",
      "\n"
     ]
    }
   ],
   "source": [
    "print(datos)"
   ]
  },
  {
   "cell_type": "code",
   "execution_count": 12,
   "metadata": {},
   "outputs": [
    {
     "name": "stdout",
     "output_type": "stream",
     "text": [
      "\n",
      "Datos de: Luna\n",
      "-----------------------------------------------\n",
      "Planeta: Tierra\n",
      "Gravedad: 1.6199999999999999 m/s2\n",
      "\n"
     ]
    }
   ],
   "source": [
    "plantilla = \"\"\"\n",
    "Datos de: {nombre}\n",
    "-----------------------------------------------\n",
    "Planeta: {planeta}\n",
    "Gravedad: {gravedad} m/s2\n",
    "\"\"\"\n",
    "print(plantilla.format(nombre = nombre, planeta = planeta, gravedad = gravedad*1000))\n"
   ]
  }
 ],
 "metadata": {
  "interpreter": {
   "hash": "3d57cd9f0994a733cac1f0c092be5bb15b5f0be34595c5840bc7d480ce822b30"
  },
  "kernelspec": {
   "display_name": "Python 3.10.2 64-bit",
   "language": "python",
   "name": "python3"
  },
  "language_info": {
   "codemirror_mode": {
    "name": "ipython",
    "version": 3
   },
   "file_extension": ".py",
   "mimetype": "text/x-python",
   "name": "python",
   "nbconvert_exporter": "python",
   "pygments_lexer": "ipython3",
   "version": "3.10.2"
  },
  "orig_nbformat": 4
 },
 "nbformat": 4,
 "nbformat_minor": 2
}
